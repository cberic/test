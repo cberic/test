{
 "cells": [
  {
   "cell_type": "markdown",
   "metadata": {},
   "source": [
    "# Read input parameters"
   ]
  },
  {
   "cell_type": "code",
   "execution_count": 271,
   "metadata": {
    "collapsed": true,
    "scrolled": true
   },
   "outputs": [],
   "source": [
    "include(\"input.jl\");"
   ]
  },
  {
   "cell_type": "markdown",
   "metadata": {},
   "source": [
    "# Function to get atomic radii"
   ]
  },
  {
   "cell_type": "code",
   "execution_count": 290,
   "metadata": {
    "scrolled": false
   },
   "outputs": [
    {
     "ename": "UndefVarError",
     "evalue": "UndefVarError: 𝑟ₐₜ not defined",
     "output_type": "error",
     "traceback": [
      "UndefVarError: 𝑟ₐₜ not defined",
      "",
      "Stacktrace:",
      " [1] top-level scope at In[290]:1"
     ]
    }
   ],
   "source": [
    "𝑟ₐₜₒₘ ;\n",
    "atomicradius = Dict(\n",
    "    \"H\" => 1.2,\n",
    "    \"B\" => 1.92,\n",
    "    \"C\" => 1.7, \n",
    "    \"N\" => 1.55,\n",
    "    \"O\" => 1.52,\n",
    "    \"F\" => 1.47\n",
    ")\n",
    "atomicradius[\"H\"]"
   ]
  },
  {
   "cell_type": "markdown",
   "metadata": {},
   "source": [
    "# Function to get solvent parameters"
   ]
  },
  {
   "cell_type": "code",
   "execution_count": 257,
   "metadata": {
    "collapsed": true,
    "scrolled": true
   },
   "outputs": [
    {
     "data": {
      "text/plain": [
       "solventparameters (generic function with 1 method)"
      ]
     },
     "execution_count": 257,
     "metadata": {},
     "output_type": "execute_result"
    }
   ],
   "source": [
    "# returns a 5-element tuple of solvent properties: \n",
    "# (dielectric constant, density, molar mass, number of valence electrons, molecular radius (Ang.) )\n",
    "function solventparameters(solvent)\n",
    "    if solvent == \"cyclohexane\"\n",
    "        return (2.0165, 0.7781, 84.1595, 36, 2.815)\n",
    "    elseif solvent == \"benzene\"\n",
    "        return (2.2706, 0.8756, 78.1118, 30, 2.63)\n",
    "    elseif solvent == \"argon\"\n",
    "        return (1.43, 1.3954, 39.948, 8, 1.705)\n",
    "    else \n",
    "        println(\"Solvent not implemented. Try cyclohexane, benzene, or argon\")\n",
    "    end\n",
    "end"
   ]
  },
  {
   "cell_type": "code",
   "execution_count": 260,
   "metadata": {
    "collapsed": true,
    "scrolled": true
   },
   "outputs": [
    {
     "data": {
      "text/plain": [
       "(2.0165, 0.7781, 84.1595, 36, 2.815)"
      ]
     },
     "execution_count": 260,
     "metadata": {},
     "output_type": "execute_result"
    }
   ],
   "source": [
    "solventparameters(solvent)"
   ]
  },
  {
   "cell_type": "markdown",
   "metadata": {},
   "source": [
    "# Function to write Gaussian input files"
   ]
  },
  {
   "cell_type": "code",
   "execution_count": 219,
   "metadata": {
    "scrolled": true
   },
   "outputs": [
    {
     "data": {
      "text/plain": [
       "write_gaussian_input (generic function with 1 method)"
      ]
     },
     "execution_count": 219,
     "metadata": {},
     "output_type": "execute_result"
    }
   ],
   "source": [
    "# function to write Gaussian input files\n",
    "function write_gaussian_input(geometry,scaling,jobtype)\n",
    "    # Split the long string geometry into short stings, \n",
    "    # and stored in an array called structure\n",
    "    structure = split(geometry, r\"\\n\\n+(?!$)\")\n",
    "    \n",
    "    #geometry_new = read(`awk '{print $2, $3, $4}' tmp`, String)\n",
    "    #structure_new = split(read(pipeline(`echo $geometry`, `awk '{print $2, $3, $4}'`), String), r\"\\n\\n+(?!$)\")\n",
    "    \n",
    "    #for i in 1:number_of_atoms\n",
    "     #   structure_array = split(structure_string[i], r\"\\n+\")\n",
    "    \n",
    "    #coordinate_1 = split(structure[1], r\"\\s+\")\n",
    "    #for i in 2:length(coordinate_1)\n",
    "    \n",
    "    # (dielectric constant, density, molar mass, \n",
    "    #  number of valence electrons, molecular radius)\n",
    "    solv_para = solventparameters(solvent)\n",
    "    \n",
    "    if jobtype == \"Vc\"\n",
    "        for i in 1:length(structure)\n",
    "            for j in 1:length(scaling)\n",
    "            open(\"file-$i-Vc.gjf\", \"w\") do f  \n",
    "                write(f, \"\"\"\n",
    "                %chk=file-$i.chk\n",
    "                %nproc=$nproc\n",
    "                %mem=$mem\n",
    "                #p $method $basis \n",
    "                # scrf=(iefpcm,solvent=$solvent,read) nosym guess=only pop=none\n",
    "\n",
    "                title\n",
    "\n",
    "                $charge $multiplicity\n",
    "\n",
    "                $(structure[i])\n",
    "\n",
    "                qrep pcmdoc geomview nodis nocav g03defaults tsare=$tesserae\n",
    "                nsfe=$number_of_atoms\n",
    "                eps=$(solv_para[1]) rhos=$(solv_para[2]) solvmw=$(solv_para[3])\n",
    "                nvesolv=$(solv_para[4]) rsolv=$(solv_para[5])\n",
    "\n",
    "                $(read(pipeline(`echo $(structure[i])`, `awk -v var=$(solv_para[5]) '{print $2, $3, $4, var, 1.2}'`), String)) $(solv_para[5]) 1.2\n",
    "                \n",
    "                \"\"\")\n",
    "            end\n",
    "            end\n",
    "        end\n",
    "    end    \n",
    "end"
   ]
  },
  {
   "cell_type": "code",
   "execution_count": 220,
   "metadata": {
    "collapsed": true,
    "scrolled": false
   },
   "outputs": [
    {
     "name": "stdout",
     "output_type": "stream",
     "text": [
      "%chk=file-1.chk\n",
      "%nproc=8\n",
      "%mem=1gb\n",
      "#p wb97xd def2tzvp \n",
      "# scrf=(iefpcm,solvent=cyclohexane,read) nosym guess=only pop=none\n",
      "\n",
      "title\n",
      "\n",
      "0 1\n",
      "\n",
      "C    1.10712900   -1.48465400    0.00000000\n",
      "C   -0.00001100   -0.72877000    0.00000000\n",
      "C    0.00000000    0.72875800    0.00000000\n",
      "C   -1.10712300    1.48466300    0.00000000\n",
      "H    2.09998900   -1.03986800    0.00000000\n",
      "H    1.05995700   -2.56940600    0.00000000\n",
      "H   -0.97811200   -1.21104800    0.00000000\n",
      "H    0.97811000    1.21101800    0.00000000\n",
      "H   -2.09999700    1.03991100    0.00000000\n",
      "H   -1.05991600    2.56941400    0.00000000\n",
      "\n",
      "qrep pcmdoc geomview nodis nocav g03defaults tsare=0.075\n",
      "nsfe=10\n",
      "eps=2.0165 rhos=0.7781 solvmw=84.1595\n",
      "nvesolv=36 rsolv=2.815\n",
      "\n",
      "1.10712900 -1.48465400 0.00000000 2.815 1.2\n",
      "-0.00001100 -0.72877000 0.00000000 2.815 1.2\n",
      "0.00000000 0.72875800 0.00000000 2.815 1.2\n",
      "-1.10712300 1.48466300 0.00000000 2.815 1.2\n",
      "2.09998900 -1.03986800 0.00000000 2.815 1.2\n",
      "1.05995700 -2.56940600 0.00000000 2.815 1.2\n",
      "-0.97811200 -1.21104800 0.00000000 2.815 1.2\n",
      "0.97811000 1.21101800 0.00000000 2.815 1.2\n",
      "-2.09999700 1.03991100 0.00000000 2.815 1.2\n",
      "-1.05991600 2.56941400 0.00000000 2.815 1.2\n",
      " 2.815 1.2\n",
      "\n"
     ]
    },
    {
     "data": {
      "text/plain": [
       "Process(`\u001b[4mcat\u001b[24m \u001b[4mfile-1-Vc.gjf\u001b[24m`, ProcessExited(0))"
      ]
     },
     "execution_count": 220,
     "metadata": {},
     "output_type": "execute_result"
    }
   ],
   "source": [
    "write_gaussian_input(geometry,\"Vc\")\n",
    "\n",
    "run(`cat file-1-Vc.gjf`)\n",
    "#run(`cat file-2-Vc.gjf`)"
   ]
  },
  {
   "cell_type": "markdown",
   "metadata": {},
   "source": [
    "# testing"
   ]
  },
  {
   "cell_type": "code",
   "execution_count": 40,
   "metadata": {
    "collapsed": true,
    "scrolled": true
   },
   "outputs": [
    {
     "data": {
      "text/plain": [
       "8"
      ]
     },
     "execution_count": 40,
     "metadata": {},
     "output_type": "execute_result"
    }
   ],
   "source": [
    "a=solventparameters(\"argon\")\n",
    "a[4]"
   ]
  },
  {
   "cell_type": "code",
   "execution_count": 84,
   "metadata": {
    "collapsed": true,
    "scrolled": true
   },
   "outputs": [
    {
     "name": "stdout",
     "output_type": "stream",
     "text": [
      "C    1.10712900   -1.48465400    0.00000000\n",
      "C   -0.00001100   -0.72877000    0.00000000\n",
      "C    0.00000000    0.72875800    0.00000000\n",
      "C   -1.10712300    1.48466300    0.00000000\n",
      "H    2.09998900   -1.03986800    0.00000000\n",
      "H    1.05995700   -2.56940600    0.00000000\n",
      "H   -0.97811200   -1.21104800    0.00000000\n",
      "H    0.97811000    1.21101800    0.00000000\n",
      "H   -2.09999700    1.03991100    0.00000000\n",
      "H   -1.05991600    2.56941400    0.00000000\n",
      "\n"
     ]
    },
    {
     "ename": "ArgumentError",
     "evalue": "ArgumentError: invalid index: \"C    1.10712900   -1.48465400    0.00000000\\nC   -0.00001100   -0.72877000    0.00000000\\nC    0.00000000    0.72875800    0.00000000\\nC   -1.10712300    1.48466300    0.00000000\\nH    2.09998900   -1.03986800    0.00000000\\nH    1.05995700   -2.56940600    0.00000000\\nH   -0.97811200   -1.21104800    0.00000000\\nH    0.97811000    1.21101800    0.00000000\\nH   -2.09999700    1.03991100    0.00000000\\nH   -1.05991600    2.56941400    0.00000000\" of type SubString{String}",
     "output_type": "error",
     "traceback": [
      "ArgumentError: invalid index: \"C    1.10712900   -1.48465400    0.00000000\\nC   -0.00001100   -0.72877000    0.00000000\\nC    0.00000000    0.72875800    0.00000000\\nC   -1.10712300    1.48466300    0.00000000\\nH    2.09998900   -1.03986800    0.00000000\\nH    1.05995700   -2.56940600    0.00000000\\nH   -0.97811200   -1.21104800    0.00000000\\nH    0.97811000    1.21101800    0.00000000\\nH   -2.09999700    1.03991100    0.00000000\\nH   -1.05991600    2.56941400    0.00000000\" of type SubString{String}",
      "",
      "Stacktrace:",
      " [1] to_index(::SubString{String}) at ./indices.jl:297",
      " [2] to_index(::Array{SubString{String},1}, ::SubString{String}) at ./indices.jl:274",
      " [3] to_indices at ./indices.jl:325 [inlined]",
      " [4] to_indices at ./indices.jl:322 [inlined]",
      " [5] getindex(::Array{SubString{String},1}, ::SubString{String}) at ./abstractarray.jl:980",
      " [6] top-level scope at ./In[84]:5"
     ]
    }
   ],
   "source": [
    "structure = split(geometry, r\"\\n\\n+(?!$)\")\n",
    "coordinate = []\n",
    "for i in structure\n",
    "    println(i, \"\\n\")\n",
    "    coordinate = split(structure[i], r\"\\s+\")\n",
    "end\n",
    "println(coordinate[1])"
   ]
  },
  {
   "cell_type": "code",
   "execution_count": 283,
   "metadata": {
    "collapsed": true,
    "scrolled": true
   },
   "outputs": [
    {
     "data": {
      "text/plain": [
       "7"
      ]
     },
     "execution_count": 283,
     "metadata": {},
     "output_type": "execute_result"
    }
   ],
   "source": [
    "length(scaling)"
   ]
  },
  {
   "cell_type": "code",
   "execution_count": 83,
   "metadata": {
    "collapsed": true,
    "scrolled": true
   },
   "outputs": [
    {
     "data": {
      "text/plain": [
       "3-element Array{Int64,1}:\n",
       " 1\n",
       " 2\n",
       " 3"
      ]
     },
     "execution_count": 83,
     "metadata": {},
     "output_type": "execute_result"
    }
   ],
   "source": [
    "array = [1;2;3]"
   ]
  },
  {
   "cell_type": "code",
   "execution_count": 177,
   "metadata": {
    "collapsed": true,
    "scrolled": false
   },
   "outputs": [
    {
     "data": {
      "text/plain": [
       "10×3 Array{SubString{String},2}:\n",
       " \"C    1.10712900   -1.48465400    0.00000000\"  …  \"C    1.10712900   -1.48465400    0.00000000\"\n",
       " \"C   -0.00001100   -0.72877000    0.00000000\"     \"C   -0.00001100   -0.72877000    0.00000000\"\n",
       " \"C    0.00000000    0.72875800    0.00000000\"     \"C    0.00000000    0.72875800    0.00000000\"\n",
       " \"C   -1.10712300    1.48466300    0.00000000\"     \"C   -1.10712300    1.48466300    0.00000000\"\n",
       " \"H    2.09998900   -1.03986800    0.00000000\"     \"H    2.09998900   -1.03986800    0.00000000\"\n",
       " \"H    1.05995700   -2.56940600    0.00000000\"  …  \"H    1.05995700   -2.56940600    0.00000000\"\n",
       " \"H   -0.97811200   -1.21104800    0.00000000\"     \"H   -0.97811200   -1.21104800    0.00000000\"\n",
       " \"H    0.97811000    1.21101800    0.00000000\"     \"H    0.97811000    1.21101800    0.00000000\"\n",
       " \"H   -2.09999700    1.03991100    0.00000000\"     \"H   -2.09999700    1.03991100    0.00000000\"\n",
       " \"H   -1.05991600    2.56941400    0.00000000\"     \"H   -1.05991600    2.56941400    3.00000000\""
      ]
     },
     "execution_count": 177,
     "metadata": {},
     "output_type": "execute_result"
    }
   ],
   "source": [
    "structure_string = split(strip(geometry, '\\n'), r\"\\n\\n+(?!$)\")\n",
    "for i in 1:length(structure_string)\n",
    "    if i == 1\n",
    "        structure_array = split(structure_string[i], r\"\\n+\")\n",
    "    else\n",
    "        structure_array = hcat(structure_array, split(structure_string[i], r\"\\n+\"))\n",
    "    end\n",
    "end\n",
    "#coordinate = split(structure_array[1], r\"\\s+\")\n",
    "structure_array"
   ]
  },
  {
   "cell_type": "code",
   "execution_count": 172,
   "metadata": {
    "collapsed": true,
    "scrolled": true
   },
   "outputs": [
    {
     "data": {
      "text/plain": [
       "10×2 Array{SubString{String},2}:\n",
       " \"C    1.10712900   -1.48465400    0.00000000\"  …  \"C    1.10712900   -1.48465400    0.00000000\"\n",
       " \"C   -0.00001100   -0.72877000    0.00000000\"     \"C   -0.00001100   -0.72877000    0.00000000\"\n",
       " \"C    0.00000000    0.72875800    0.00000000\"     \"C    0.00000000    0.72875800    0.00000000\"\n",
       " \"C   -1.10712300    1.48466300    0.00000000\"     \"C   -1.10712300    1.48466300    0.00000000\"\n",
       " \"H    2.09998900   -1.03986800    0.00000000\"     \"H    2.09998900   -1.03986800    0.00000000\"\n",
       " \"H    1.05995700   -2.56940600    0.00000000\"  …  \"H    1.05995700   -2.56940600    0.00000000\"\n",
       " \"H   -0.97811200   -1.21104800    0.00000000\"     \"H   -0.97811200   -1.21104800    0.00000000\"\n",
       " \"H    0.97811000    1.21101800    0.00000000\"     \"H    0.97811000    1.21101800    0.00000000\"\n",
       " \"H   -2.09999700    1.03991100    0.00000000\"     \"H   -2.09999700    1.03991100    0.00000000\"\n",
       " \"H   -1.05991600    2.56941400    0.00000000\"     \"H   -1.05991600    2.56941400    2.00000000\""
      ]
     },
     "execution_count": 172,
     "metadata": {},
     "output_type": "execute_result"
    }
   ],
   "source": [
    "structure_string = split(geometry, r\"\\n\\n+(?!$)\")\n",
    "a1 = split(structure_string[1], r\"\\n+\")\n",
    "a2 = split(structure_string[2], r\"\\n+\")\n",
    "hcat(a1,split(structure_string[2], r\"\\n+\"))"
   ]
  },
  {
   "cell_type": "code",
   "execution_count": 127,
   "metadata": {
    "collapsed": true,
    "scrolled": true
   },
   "outputs": [
    {
     "data": {
      "text/plain": [
       "\"1 2 3\""
      ]
     },
     "execution_count": 127,
     "metadata": {},
     "output_type": "execute_result"
    }
   ],
   "source": [
    "a=\"Ch    1 2 3\"\n",
    "replace(a, r\"^\\s*\\S+\\s+\" => \"\")"
   ]
  },
  {
   "cell_type": "code",
   "execution_count": 130,
   "metadata": {
    "collapsed": true,
    "scrolled": true
   },
   "outputs": [
    {
     "data": {
      "text/plain": [
       "10-element Array{String,1}:\n",
       " \"1.10712900   -1.48465400    0.00000000\"\n",
       " \"-0.00001100   -0.72877000    0.00000000\"\n",
       " \"0.00000000    0.72875800    0.00000000\"\n",
       " \"-1.10712300    1.48466300    0.00000000\"\n",
       " \"2.09998900   -1.03986800    0.00000000\"\n",
       " \"1.05995700   -2.56940600    0.00000000\"\n",
       " \"-0.97811200   -1.21104800    0.00000000\"\n",
       " \"0.97811000    1.21101800    0.00000000\"\n",
       " \"-2.09999700    1.03991100    0.00000000\"\n",
       " \"-1.05991600    2.56941400    0.00000000\""
      ]
     },
     "execution_count": 130,
     "metadata": {},
     "output_type": "execute_result"
    }
   ],
   "source": [
    "replace.(structure_array, r\"^\\s*\\S+\\s+\" => \"\")"
   ]
  },
  {
   "cell_type": "code",
   "execution_count": 138,
   "metadata": {
    "collapsed": true,
    "scrolled": true
   },
   "outputs": [
    {
     "data": {
      "text/plain": [
       "2×2 Array{UInt8,2}:\n",
       " 0x6e  0x49\n",
       " 0x82  0x48"
      ]
     },
     "execution_count": 138,
     "metadata": {},
     "output_type": "execute_result"
    }
   ],
   "source": [
    "A = rand(UInt8, 2,2)\n",
    "B = rand(UInt8, 2,2)"
   ]
  },
  {
   "cell_type": "code",
   "execution_count": 139,
   "metadata": {
    "collapsed": true,
    "scrolled": true
   },
   "outputs": [
    {
     "data": {
      "text/plain": [
       "2×4 Array{UInt8,2}:\n",
       " 0x58  0xf0  0x6e  0x49\n",
       " 0x98  0xd5  0x82  0x48"
      ]
     },
     "execution_count": 139,
     "metadata": {},
     "output_type": "execute_result"
    }
   ],
   "source": [
    "C = [A B]"
   ]
  },
  {
   "cell_type": "code",
   "execution_count": 140,
   "metadata": {
    "collapsed": true,
    "scrolled": true
   },
   "outputs": [
    {
     "data": {
      "text/plain": [
       "4×2 Array{UInt8,2}:\n",
       " 0x58  0xf0\n",
       " 0x98  0xd5\n",
       " 0x6e  0x49\n",
       " 0x82  0x48"
      ]
     },
     "execution_count": 140,
     "metadata": {},
     "output_type": "execute_result"
    }
   ],
   "source": [
    "D = [A ; B]"
   ]
  },
  {
   "cell_type": "code",
   "execution_count": 281,
   "metadata": {
    "collapsed": true,
    "scrolled": true
   },
   "outputs": [
    {
     "data": {
      "text/plain": [
       "38"
      ]
     },
     "execution_count": 281,
     "metadata": {},
     "output_type": "execute_result"
    }
   ],
   "source": [
    "solv_para = solventparameters(solvent)\n",
    "open(\"tmp\", \"w\") do f  \n",
    "    write(f, \"%chk=file-\",\"i\",\".chk\\n\")\n",
    "    write(f, \"%nproc=\",\"$nproc\",\"\\n\")\n",
    "    write(f, \"%mem=\",mem,\"\\n\")\n",
    "    write(f, \"#p \",method,\" \",basis,\"\\n\")\n",
    "    write(f, \"scrf=(iefpcm,solvent=\",solvent,\",read) nosym guess=only pop=none\\n\\n\")\n",
    "    write(f, \"title\\n\\n\")\n",
    "    write(f, \"$charge\",\" \", \"$multiplicity\",\"\\n\\n\")\n",
    "    write(f, \"$(structure[1])\\n\\n\")\n",
    "    write(f, \"qrep pcmdoc geomview nodis nocav g03defaults tsare=\",\"$tesserae\",\"\\n\")\n",
    "    write(f, \"nsfe=\",\"$number_of_atoms\",\"\\n\")\n",
    "    write(f, \"eps=\",\"$(solv_para[1])\",\" rhos=\",\"$(solv_para[2])\",\" solvmw=\",\"$(solv_para[3])\",\"\\n\")\n",
    "end\n",
    "\n",
    "\n",
    " #               nvesolv=$(solv_para[4]) rsolv=$(solv_para[5])\n",
    "\n",
    "#                $(read(pipeline(`echo $(structure[i])`, `awk -v var=$(solv_para[5]) '{print $2, $3, $4, var, 1.2}'`), String)) $(solv_para[5]) 1.2\n",
    "                \n",
    "\n",
    "#geometry_new = read(pipeline(`echo $geometry`, `awk '{print $2, $3, $4}'`), String)"
   ]
  },
  {
   "cell_type": "code",
   "execution_count": 282,
   "metadata": {
    "collapsed": true,
    "scrolled": true
   },
   "outputs": [
    {
     "name": "stdout",
     "output_type": "stream",
     "text": [
      "%chk=file-i.chk\n",
      "%nproc=8\n",
      "%mem=1gb\n",
      "#p wb97xd def2tzvp\n",
      "scrf=(iefpcm,solvent=cyclohexane,read) nosym guess=only pop=none\n",
      "\n",
      "title\n",
      "\n",
      "0 1\n",
      "\n",
      "C    1.10712900   -1.48465400    0.00000000\n",
      "C   -0.00001100   -0.72877000    0.00000000\n",
      "C    0.00000000    0.72875800    0.00000000\n",
      "C   -1.10712300    1.48466300    0.00000000\n",
      "H    2.09998900   -1.03986800    0.00000000\n",
      "H    1.05995700   -2.56940600    0.00000000\n",
      "H   -0.97811200   -1.21104800    0.00000000\n",
      "H    0.97811000    1.21101800    0.00000000\n",
      "H   -2.09999700    1.03991100    0.00000000\n",
      "H   -1.05991600    2.56941400    0.00000000\n",
      "\n",
      "qrep pcmdoc geomview nodis nocav g03defaults tsare=0.075\n",
      "nsfe=10\n",
      "eps=2.0165 rhos=0.7781 solvmw=84.1595\n"
     ]
    },
    {
     "data": {
      "text/plain": [
       "Process(`\u001b[4mcat\u001b[24m \u001b[4mtmp\u001b[24m`, ProcessExited(0))"
      ]
     },
     "execution_count": 282,
     "metadata": {},
     "output_type": "execute_result"
    }
   ],
   "source": [
    "run(`cat tmp`)"
   ]
  },
  {
   "cell_type": "code",
   "execution_count": 203,
   "metadata": {
    "collapsed": true,
    "scrolled": true
   },
   "outputs": [
    {
     "data": {
      "text/plain": [
       "3-element Array{SubString{String},1}:\n",
       " \"1.10712900 -1.48465400 0.00000000\\n-0.00001100 -0.72877000 0.00000000\\n0.00000000 0.72875800 0.00000000\\n-1.10712300 1.48466300 0.00000000\\n2.09998900 -1.03986800 0.00000000\\n1.05995700 -2.56940600 0.00000000\\n-0.97811200 -1.21104800 0.00000000\\n0.97811000 1.21101800 0.00000000\\n-2.09999700 1.03991100 0.00000000\\n-1.05991600 2.56941400 0.00000000\"\n",
       " \"1.10712900 -1.48465400 0.00000000\\n-0.00001100 -0.72877000 0.00000000\\n0.00000000 0.72875800 0.00000000\\n-1.10712300 1.48466300 0.00000000\\n2.09998900 -1.03986800 0.00000000\\n1.05995700 -2.56940600 0.00000000\\n-0.97811200 -1.21104800 0.00000000\\n0.97811000 1.21101800 0.00000000\\n-2.09999700 1.03991100 0.00000000\\n-1.05991600 2.56941400 2.00000000\"\n",
       " \"1.10712900 -1.48465400 0.00000000\\n-0.00001100 -0.72877000 0.00000000\\n0.00000000 0.72875800 0.00000000\\n-1.10712300 1.48466300 0.00000000\\n2.09998900 -1.03986800 0.00000000\\n1.05995700 -2.56940600 0.00000000\\n-0.97811200 -1.21104800 0.00000000\\n0.97811000 1.21101800 0.00000000\\n-2.09999700 1.03991100 0.00000000\\n-1.05991600 2.56941400 3.00000000\\n  \\n\""
      ]
     },
     "execution_count": 203,
     "metadata": {},
     "output_type": "execute_result"
    }
   ],
   "source": [
    "structure_new = split(read(pipeline(`echo $geometry`, `awk '{print $2, $3, $4}'`), String), r\"\\n\\s*\\n+(?!$)\")"
   ]
  },
  {
   "cell_type": "code",
   "execution_count": null,
   "metadata": {
    "collapsed": true,
    "scrolled": true
   },
   "outputs": [],
   "source": []
  },
  {
   "cell_type": "code",
   "execution_count": null,
   "metadata": {
    "collapsed": true,
    "scrolled": true
   },
   "outputs": [],
   "source": []
  }
 ],
 "metadata": {
  "kernelspec": {
   "display_name": "Julia 1.4.0",
   "language": "julia",
   "name": "julia-1.4"
  },
  "language_info": {
   "file_extension": ".jl",
   "mimetype": "application/julia",
   "name": "julia",
   "version": "1.4.0"
  }
 },
 "nbformat": 4,
 "nbformat_minor": 4
}
